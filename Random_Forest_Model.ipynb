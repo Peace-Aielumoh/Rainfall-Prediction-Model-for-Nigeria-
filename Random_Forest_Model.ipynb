{
  "nbformat": 4,
  "nbformat_minor": 0,
  "metadata": {
    "colab": {
      "provenance": []
    },
    "kernelspec": {
      "name": "python3",
      "display_name": "Python 3"
    },
    "language_info": {
      "name": "python"
    }
  },
  "cells": [
    {
      "cell_type": "markdown",
      "source": [
        "## importing Libraries"
      ],
      "metadata": {
        "id": "KJ3h6y0Q44e-"
      }
    },
    {
      "cell_type": "code",
      "source": [
        "import numpy as np\n",
        "import pandas as pd"
      ],
      "metadata": {
        "id": "GWYk61vd5DMi"
      },
      "execution_count": 4,
      "outputs": []
    },
    {
      "cell_type": "markdown",
      "source": [
        "## Importing Dataset"
      ],
      "metadata": {
        "id": "tWxEu02J5Ncx"
      }
    },
    {
      "cell_type": "code",
      "source": [
        "from google.colab import drive\n",
        "drive.mount('/content/drive')\n"
      ],
      "metadata": {
        "colab": {
          "base_uri": "https://localhost:8080/"
        },
        "id": "3h9Q-izO5Gs6",
        "outputId": "f4378a2d-3149-475d-ee49-f8ec9892ab73"
      },
      "execution_count": 2,
      "outputs": [
        {
          "output_type": "stream",
          "name": "stdout",
          "text": [
            "Mounted at /content/drive\n"
          ]
        }
      ]
    },
    {
      "cell_type": "code",
      "source": [
        "df=pd.read_csv('/content/drive/MyDrive/Colab Notebooks/Rain Dataset 2.csv')\n",
        "df\n"
      ],
      "metadata": {
        "colab": {
          "base_uri": "https://localhost:8080/",
          "height": 423
        },
        "id": "5zKwYqvL5ZPz",
        "outputId": "f7ed83b1-05e4-4a5d-bacc-5243786e8750"
      },
      "execution_count": 7,
      "outputs": [
        {
          "output_type": "execute_result",
          "data": {
            "text/plain": [
              "     Year  Mean Temperature  Precipitation   Humidity  WindSpeed\n",
              "0    1901             26.63        1344.89  93.828940  15.021105\n",
              "1    1902             26.83        1150.76  94.197820  11.090103\n",
              "2    1903             26.86        1222.17  94.832620  11.681987\n",
              "3    1904             26.81        1155.25  96.472030   9.000000\n",
              "4    1905             26.71        1262.99  97.118700   4.843305\n",
              "..    ...               ...            ...        ...        ...\n",
              "116  2017             27.46        1158.26  78.567986  13.527572\n",
              "117  2018             27.41        1232.61  80.274216  13.044723\n",
              "118  2019             27.29        1296.43  80.512660  11.298495\n",
              "119  2020             27.43        1254.62  81.257800  10.188700\n",
              "120  2021             27.67        1114.72  80.450000  14.210000\n",
              "\n",
              "[121 rows x 5 columns]"
            ],
            "text/html": [
              "\n",
              "  <div id=\"df-a9541580-4f43-466c-a44e-8602cccc5c42\" class=\"colab-df-container\">\n",
              "    <div>\n",
              "<style scoped>\n",
              "    .dataframe tbody tr th:only-of-type {\n",
              "        vertical-align: middle;\n",
              "    }\n",
              "\n",
              "    .dataframe tbody tr th {\n",
              "        vertical-align: top;\n",
              "    }\n",
              "\n",
              "    .dataframe thead th {\n",
              "        text-align: right;\n",
              "    }\n",
              "</style>\n",
              "<table border=\"1\" class=\"dataframe\">\n",
              "  <thead>\n",
              "    <tr style=\"text-align: right;\">\n",
              "      <th></th>\n",
              "      <th>Year</th>\n",
              "      <th>Mean Temperature</th>\n",
              "      <th>Precipitation</th>\n",
              "      <th>Humidity</th>\n",
              "      <th>WindSpeed</th>\n",
              "    </tr>\n",
              "  </thead>\n",
              "  <tbody>\n",
              "    <tr>\n",
              "      <th>0</th>\n",
              "      <td>1901</td>\n",
              "      <td>26.63</td>\n",
              "      <td>1344.89</td>\n",
              "      <td>93.828940</td>\n",
              "      <td>15.021105</td>\n",
              "    </tr>\n",
              "    <tr>\n",
              "      <th>1</th>\n",
              "      <td>1902</td>\n",
              "      <td>26.83</td>\n",
              "      <td>1150.76</td>\n",
              "      <td>94.197820</td>\n",
              "      <td>11.090103</td>\n",
              "    </tr>\n",
              "    <tr>\n",
              "      <th>2</th>\n",
              "      <td>1903</td>\n",
              "      <td>26.86</td>\n",
              "      <td>1222.17</td>\n",
              "      <td>94.832620</td>\n",
              "      <td>11.681987</td>\n",
              "    </tr>\n",
              "    <tr>\n",
              "      <th>3</th>\n",
              "      <td>1904</td>\n",
              "      <td>26.81</td>\n",
              "      <td>1155.25</td>\n",
              "      <td>96.472030</td>\n",
              "      <td>9.000000</td>\n",
              "    </tr>\n",
              "    <tr>\n",
              "      <th>4</th>\n",
              "      <td>1905</td>\n",
              "      <td>26.71</td>\n",
              "      <td>1262.99</td>\n",
              "      <td>97.118700</td>\n",
              "      <td>4.843305</td>\n",
              "    </tr>\n",
              "    <tr>\n",
              "      <th>...</th>\n",
              "      <td>...</td>\n",
              "      <td>...</td>\n",
              "      <td>...</td>\n",
              "      <td>...</td>\n",
              "      <td>...</td>\n",
              "    </tr>\n",
              "    <tr>\n",
              "      <th>116</th>\n",
              "      <td>2017</td>\n",
              "      <td>27.46</td>\n",
              "      <td>1158.26</td>\n",
              "      <td>78.567986</td>\n",
              "      <td>13.527572</td>\n",
              "    </tr>\n",
              "    <tr>\n",
              "      <th>117</th>\n",
              "      <td>2018</td>\n",
              "      <td>27.41</td>\n",
              "      <td>1232.61</td>\n",
              "      <td>80.274216</td>\n",
              "      <td>13.044723</td>\n",
              "    </tr>\n",
              "    <tr>\n",
              "      <th>118</th>\n",
              "      <td>2019</td>\n",
              "      <td>27.29</td>\n",
              "      <td>1296.43</td>\n",
              "      <td>80.512660</td>\n",
              "      <td>11.298495</td>\n",
              "    </tr>\n",
              "    <tr>\n",
              "      <th>119</th>\n",
              "      <td>2020</td>\n",
              "      <td>27.43</td>\n",
              "      <td>1254.62</td>\n",
              "      <td>81.257800</td>\n",
              "      <td>10.188700</td>\n",
              "    </tr>\n",
              "    <tr>\n",
              "      <th>120</th>\n",
              "      <td>2021</td>\n",
              "      <td>27.67</td>\n",
              "      <td>1114.72</td>\n",
              "      <td>80.450000</td>\n",
              "      <td>14.210000</td>\n",
              "    </tr>\n",
              "  </tbody>\n",
              "</table>\n",
              "<p>121 rows × 5 columns</p>\n",
              "</div>\n",
              "    <div class=\"colab-df-buttons\">\n",
              "\n",
              "  <div class=\"colab-df-container\">\n",
              "    <button class=\"colab-df-convert\" onclick=\"convertToInteractive('df-a9541580-4f43-466c-a44e-8602cccc5c42')\"\n",
              "            title=\"Convert this dataframe to an interactive table.\"\n",
              "            style=\"display:none;\">\n",
              "\n",
              "  <svg xmlns=\"http://www.w3.org/2000/svg\" height=\"24px\" viewBox=\"0 -960 960 960\">\n",
              "    <path d=\"M120-120v-720h720v720H120Zm60-500h600v-160H180v160Zm220 220h160v-160H400v160Zm0 220h160v-160H400v160ZM180-400h160v-160H180v160Zm440 0h160v-160H620v160ZM180-180h160v-160H180v160Zm440 0h160v-160H620v160Z\"/>\n",
              "  </svg>\n",
              "    </button>\n",
              "\n",
              "  <style>\n",
              "    .colab-df-container {\n",
              "      display:flex;\n",
              "      gap: 12px;\n",
              "    }\n",
              "\n",
              "    .colab-df-convert {\n",
              "      background-color: #E8F0FE;\n",
              "      border: none;\n",
              "      border-radius: 50%;\n",
              "      cursor: pointer;\n",
              "      display: none;\n",
              "      fill: #1967D2;\n",
              "      height: 32px;\n",
              "      padding: 0 0 0 0;\n",
              "      width: 32px;\n",
              "    }\n",
              "\n",
              "    .colab-df-convert:hover {\n",
              "      background-color: #E2EBFA;\n",
              "      box-shadow: 0px 1px 2px rgba(60, 64, 67, 0.3), 0px 1px 3px 1px rgba(60, 64, 67, 0.15);\n",
              "      fill: #174EA6;\n",
              "    }\n",
              "\n",
              "    .colab-df-buttons div {\n",
              "      margin-bottom: 4px;\n",
              "    }\n",
              "\n",
              "    [theme=dark] .colab-df-convert {\n",
              "      background-color: #3B4455;\n",
              "      fill: #D2E3FC;\n",
              "    }\n",
              "\n",
              "    [theme=dark] .colab-df-convert:hover {\n",
              "      background-color: #434B5C;\n",
              "      box-shadow: 0px 1px 3px 1px rgba(0, 0, 0, 0.15);\n",
              "      filter: drop-shadow(0px 1px 2px rgba(0, 0, 0, 0.3));\n",
              "      fill: #FFFFFF;\n",
              "    }\n",
              "  </style>\n",
              "\n",
              "    <script>\n",
              "      const buttonEl =\n",
              "        document.querySelector('#df-a9541580-4f43-466c-a44e-8602cccc5c42 button.colab-df-convert');\n",
              "      buttonEl.style.display =\n",
              "        google.colab.kernel.accessAllowed ? 'block' : 'none';\n",
              "\n",
              "      async function convertToInteractive(key) {\n",
              "        const element = document.querySelector('#df-a9541580-4f43-466c-a44e-8602cccc5c42');\n",
              "        const dataTable =\n",
              "          await google.colab.kernel.invokeFunction('convertToInteractive',\n",
              "                                                    [key], {});\n",
              "        if (!dataTable) return;\n",
              "\n",
              "        const docLinkHtml = 'Like what you see? Visit the ' +\n",
              "          '<a target=\"_blank\" href=https://colab.research.google.com/notebooks/data_table.ipynb>data table notebook</a>'\n",
              "          + ' to learn more about interactive tables.';\n",
              "        element.innerHTML = '';\n",
              "        dataTable['output_type'] = 'display_data';\n",
              "        await google.colab.output.renderOutput(dataTable, element);\n",
              "        const docLink = document.createElement('div');\n",
              "        docLink.innerHTML = docLinkHtml;\n",
              "        element.appendChild(docLink);\n",
              "      }\n",
              "    </script>\n",
              "  </div>\n",
              "\n",
              "\n",
              "<div id=\"df-de4d878f-e607-4e35-88c4-6c2a001f216a\">\n",
              "  <button class=\"colab-df-quickchart\" onclick=\"quickchart('df-de4d878f-e607-4e35-88c4-6c2a001f216a')\"\n",
              "            title=\"Suggest charts.\"\n",
              "            style=\"display:none;\">\n",
              "\n",
              "<svg xmlns=\"http://www.w3.org/2000/svg\" height=\"24px\"viewBox=\"0 0 24 24\"\n",
              "     width=\"24px\">\n",
              "    <g>\n",
              "        <path d=\"M19 3H5c-1.1 0-2 .9-2 2v14c0 1.1.9 2 2 2h14c1.1 0 2-.9 2-2V5c0-1.1-.9-2-2-2zM9 17H7v-7h2v7zm4 0h-2V7h2v10zm4 0h-2v-4h2v4z\"/>\n",
              "    </g>\n",
              "</svg>\n",
              "  </button>\n",
              "\n",
              "<style>\n",
              "  .colab-df-quickchart {\n",
              "      --bg-color: #E8F0FE;\n",
              "      --fill-color: #1967D2;\n",
              "      --hover-bg-color: #E2EBFA;\n",
              "      --hover-fill-color: #174EA6;\n",
              "      --disabled-fill-color: #AAA;\n",
              "      --disabled-bg-color: #DDD;\n",
              "  }\n",
              "\n",
              "  [theme=dark] .colab-df-quickchart {\n",
              "      --bg-color: #3B4455;\n",
              "      --fill-color: #D2E3FC;\n",
              "      --hover-bg-color: #434B5C;\n",
              "      --hover-fill-color: #FFFFFF;\n",
              "      --disabled-bg-color: #3B4455;\n",
              "      --disabled-fill-color: #666;\n",
              "  }\n",
              "\n",
              "  .colab-df-quickchart {\n",
              "    background-color: var(--bg-color);\n",
              "    border: none;\n",
              "    border-radius: 50%;\n",
              "    cursor: pointer;\n",
              "    display: none;\n",
              "    fill: var(--fill-color);\n",
              "    height: 32px;\n",
              "    padding: 0;\n",
              "    width: 32px;\n",
              "  }\n",
              "\n",
              "  .colab-df-quickchart:hover {\n",
              "    background-color: var(--hover-bg-color);\n",
              "    box-shadow: 0 1px 2px rgba(60, 64, 67, 0.3), 0 1px 3px 1px rgba(60, 64, 67, 0.15);\n",
              "    fill: var(--button-hover-fill-color);\n",
              "  }\n",
              "\n",
              "  .colab-df-quickchart-complete:disabled,\n",
              "  .colab-df-quickchart-complete:disabled:hover {\n",
              "    background-color: var(--disabled-bg-color);\n",
              "    fill: var(--disabled-fill-color);\n",
              "    box-shadow: none;\n",
              "  }\n",
              "\n",
              "  .colab-df-spinner {\n",
              "    border: 2px solid var(--fill-color);\n",
              "    border-color: transparent;\n",
              "    border-bottom-color: var(--fill-color);\n",
              "    animation:\n",
              "      spin 1s steps(1) infinite;\n",
              "  }\n",
              "\n",
              "  @keyframes spin {\n",
              "    0% {\n",
              "      border-color: transparent;\n",
              "      border-bottom-color: var(--fill-color);\n",
              "      border-left-color: var(--fill-color);\n",
              "    }\n",
              "    20% {\n",
              "      border-color: transparent;\n",
              "      border-left-color: var(--fill-color);\n",
              "      border-top-color: var(--fill-color);\n",
              "    }\n",
              "    30% {\n",
              "      border-color: transparent;\n",
              "      border-left-color: var(--fill-color);\n",
              "      border-top-color: var(--fill-color);\n",
              "      border-right-color: var(--fill-color);\n",
              "    }\n",
              "    40% {\n",
              "      border-color: transparent;\n",
              "      border-right-color: var(--fill-color);\n",
              "      border-top-color: var(--fill-color);\n",
              "    }\n",
              "    60% {\n",
              "      border-color: transparent;\n",
              "      border-right-color: var(--fill-color);\n",
              "    }\n",
              "    80% {\n",
              "      border-color: transparent;\n",
              "      border-right-color: var(--fill-color);\n",
              "      border-bottom-color: var(--fill-color);\n",
              "    }\n",
              "    90% {\n",
              "      border-color: transparent;\n",
              "      border-bottom-color: var(--fill-color);\n",
              "    }\n",
              "  }\n",
              "</style>\n",
              "\n",
              "  <script>\n",
              "    async function quickchart(key) {\n",
              "      const quickchartButtonEl =\n",
              "        document.querySelector('#' + key + ' button');\n",
              "      quickchartButtonEl.disabled = true;  // To prevent multiple clicks.\n",
              "      quickchartButtonEl.classList.add('colab-df-spinner');\n",
              "      try {\n",
              "        const charts = await google.colab.kernel.invokeFunction(\n",
              "            'suggestCharts', [key], {});\n",
              "      } catch (error) {\n",
              "        console.error('Error during call to suggestCharts:', error);\n",
              "      }\n",
              "      quickchartButtonEl.classList.remove('colab-df-spinner');\n",
              "      quickchartButtonEl.classList.add('colab-df-quickchart-complete');\n",
              "    }\n",
              "    (() => {\n",
              "      let quickchartButtonEl =\n",
              "        document.querySelector('#df-de4d878f-e607-4e35-88c4-6c2a001f216a button');\n",
              "      quickchartButtonEl.style.display =\n",
              "        google.colab.kernel.accessAllowed ? 'block' : 'none';\n",
              "    })();\n",
              "  </script>\n",
              "</div>\n",
              "    </div>\n",
              "  </div>\n"
            ]
          },
          "metadata": {},
          "execution_count": 7
        }
      ]
    },
    {
      "cell_type": "code",
      "source": [
        "X = df.iloc[:,[1, 3, 4 ]].values\n",
        "Y = df.iloc[:,2].values"
      ],
      "metadata": {
        "id": "D2IxQ_Yq5iyd"
      },
      "execution_count": 8,
      "outputs": []
    },
    {
      "cell_type": "code",
      "source": [
        "print(X)\n",
        "print(Y)"
      ],
      "metadata": {
        "colab": {
          "base_uri": "https://localhost:8080/"
        },
        "id": "K1nCno_D7huA",
        "outputId": "8219e92f-3c6d-4529-baea-02bb3dc7f336"
      },
      "execution_count": 9,
      "outputs": [
        {
          "output_type": "stream",
          "name": "stdout",
          "text": [
            "[[26.63      93.82894   15.021105 ]\n",
            " [26.83      94.19782   11.090103 ]\n",
            " [26.86      94.83262   11.681987 ]\n",
            " [26.81      96.47203    9.       ]\n",
            " [26.71      97.1187     4.8433046]\n",
            " [27.08      96.16575    6.725354 ]\n",
            " [26.86      96.980194   9.3876505]\n",
            " [26.81      97.79321   11.252519 ]\n",
            " [26.77      98.201126  12.144331 ]\n",
            " [26.87      98.19411   11.043261 ]\n",
            " [26.82      97.83999   10.966713 ]\n",
            " [26.92      95.36762   10.390226 ]\n",
            " [27.06      92.20724    9.983106 ]\n",
            " [27.27      88.76688    9.178235 ]\n",
            " [26.84      83.10312    8.699793 ]\n",
            " [26.82      79.97462    8.707237 ]\n",
            " [26.83      77.46256   10.1887   ]\n",
            " [26.82      84.3071    11.753877 ]\n",
            " [26.85      93.68196   11.503113 ]\n",
            " [26.86      95.78908   11.090103 ]\n",
            " [26.85      95.445526  10.799999 ]\n",
            " [26.84      94.87827   11.879999 ]\n",
            " [27.07      95.85379   13.75558  ]\n",
            " [26.96      95.96225   13.004921 ]\n",
            " [26.29      98.1573    13.004921 ]\n",
            " [27.12      98.012985  13.684735 ]\n",
            " [27.02      97.087776  13.397612 ]\n",
            " [26.67      96.885254  12.9249525]\n",
            " [26.35      97.48621   13.276144 ]\n",
            " [27.5       96.64618   14.044615 ]\n",
            " [27.79      96.09441   14.973576 ]\n",
            " [27.39      95.54446   15.328561 ]\n",
            " [27.12      95.07294   14.77755  ]\n",
            " [27.43      91.53713   15.137133 ]\n",
            " [27.55      88.35643   15.273505 ]\n",
            " [27.        83.72151   16.645864 ]\n",
            " [27.62      81.80693   21.120682 ]\n",
            " [28.1       74.79823   24.408424 ]\n",
            " [27.6       69.920204  22.73707  ]\n",
            " [26.87      67.956375  20.991426 ]\n",
            " [27.87      66.07579   24.184391 ]\n",
            " [27.52      64.09562   26.161375 ]\n",
            " [26.96      66.47852   27.217524 ]\n",
            " [27.02      67.770805  30.500309 ]\n",
            " [26.6       68.37353   33.233284 ]\n",
            " [26.76      68.68648   33.092598 ]\n",
            " [27.02      66.30155   32.361977 ]\n",
            " [26.46      64.985275  31.087412 ]\n",
            " [27.09      68.42762   31.92654  ]\n",
            " [26.49      69.680855  34.358788 ]\n",
            " [26.89      70.50054   36.61573  ]\n",
            " [26.71      70.05099   36.08091  ]\n",
            " [26.58      71.11963   33.64989  ]\n",
            " [26.61      70.89352   30.684587 ]\n",
            " [26.48      71.83889   31.079075 ]\n",
            " [26.56      73.247154  28.533264 ]\n",
            " [26.66      73.569016  25.759504 ]\n",
            " [26.95      72.899605  23.565569 ]\n",
            " [26.76      72.648544  25.49908  ]\n",
            " [26.87      72.85125   26.072052 ]\n",
            " [26.28      73.9864    25.582806 ]\n",
            " [26.68      72.89697   22.159746 ]\n",
            " [27.02      72.44865   25.264202 ]\n",
            " [26.66      71.98713   25.476198 ]\n",
            " [26.56      71.929886  25.376808 ]\n",
            " [26.81      72.06669   26.14403  ]\n",
            " [26.55      72.619415  26.161375 ]\n",
            " [26.78      72.58489   26.009844 ]\n",
            " [27.3       73.57673   26.596178 ]\n",
            " [26.91      73.71239   28.165257 ]\n",
            " [26.45      75.96923   26.596178 ]\n",
            " [26.84      77.24474   27.511158 ]\n",
            " [27.19      79.731895  30.421598 ]\n",
            " [26.34      77.14209   32.32992  ]\n",
            " [26.27      77.56019   30.652895 ]\n",
            " [26.43      76.558136  30.811037 ]\n",
            " [26.54      73.254684  29.574827 ]\n",
            " [26.59      75.77127   31.863558 ]\n",
            " [26.88      78.98929   39.79262  ]\n",
            " [26.91      82.468445  41.351448 ]\n",
            " [26.9       83.42142   41.53595  ]\n",
            " [26.99      77.64504   46.740417 ]\n",
            " [27.11      70.25891   45.92223  ]\n",
            " [27.23      65.52666   43.85651  ]\n",
            " [27.01      58.609344  49.419754 ]\n",
            " [27.04      56.120777  44.53536  ]\n",
            " [27.38      53.89537   45.996956 ]\n",
            " [26.86      59.72979   46.863647 ]\n",
            " [26.39      70.96174   44.173042 ]\n",
            " [27.2       71.6236    37.017033 ]\n",
            " [26.96      70.9399    27.74103  ]\n",
            " [26.59      75.29755   21.67487  ]\n",
            " [26.96      83.1052    17.87718  ]\n",
            " [26.75      89.5015    17.339897 ]\n",
            " [27.05      89.30239   19.602652 ]\n",
            " [27.13      86.82677   18.668005 ]\n",
            " [27.14      81.13365   15.124284 ]\n",
            " [27.51      84.042435  13.684735 ]\n",
            " [27.12      85.42093   13.684735 ]\n",
            " [26.92      87.19667   20.456745 ]\n",
            " [27.11      88.491615  24.442913 ]\n",
            " [27.28      88.49059   25.476198 ]\n",
            " [27.38      87.78614   27.66384  ]\n",
            " [27.38      83.45338   25.764534 ]\n",
            " [27.5       82.229805  25.478743 ]\n",
            " [27.47      80.47135   23.358423 ]\n",
            " [27.45      79.121544  20.724247 ]\n",
            " [27.09      73.68332   19.652176 ]\n",
            " [27.75      72.778625  21.542923 ]\n",
            " [27.86      67.89054   20.721119 ]\n",
            " [27.49      63.875984  21.129883 ]\n",
            " [27.3       58.177803  20.780453 ]\n",
            " [27.51      56.22099   17.935081 ]\n",
            " [27.61      58.606697  14.081478 ]\n",
            " [27.38      65.6889    14.182355 ]\n",
            " [27.79      70.53971   14.007655 ]\n",
            " [27.46      78.567986  13.527572 ]\n",
            " [27.41      80.274216  13.0447235]\n",
            " [27.29      80.51266   11.298495 ]\n",
            " [27.43      81.2578    10.1887   ]\n",
            " [27.67      80.45      14.21     ]]\n",
            "[1344.89 1150.76 1222.17 1155.25 1262.99 1255.97 1040.54 1220.53 1369.72\n",
            " 1131.93 1293.68 1036.8  1041.83  979.96 1169.64 1312.27 1282.71 1244.16\n",
            " 1101.11 1238.47 1251.19 1179.13 1208.5  1283.06 1237.05 1159.49 1274.1\n",
            " 1263.35 1278.64 1303.2  1280.01 1140.69 1327.96 1254.43 1237.22 1241.23\n",
            " 1159.86 1182.83 1336.57 1230.43 1222.26 1107.14 1220.57 1105.72 1140.89\n",
            " 1187.11 1244.32 1180.03 1163.2  1140.6  1267.75 1291.54 1264.42 1420.72\n",
            " 1363.35 1136.25 1441.45 1119.92 1241.83 1300.99 1137.34 1356.02 1354.27\n",
            " 1240.62 1201.   1253.21 1172.17 1315.49 1292.78 1143.67 1128.71 1083.99\n",
            "  991.81 1185.54 1200.53 1188.11 1035.9  1312.02 1227.27 1249.03 1133.46\n",
            " 1049.72  887.75 1058.63 1114.34 1068.41 1025.66 1197.47 1146.35 1101.95\n",
            " 1260.68 1116.25 1090.49 1233.98 1195.71 1249.78 1237.41 1167.   1263.22\n",
            " 1146.19 1152.24 1142.07 1277.06 1147.69 1187.35 1181.81 1186.8  1204.7\n",
            " 1170.7  1241.19 1051.33 1240.19 1069.19 1142.38 1060.44 1244.88 1158.26\n",
            " 1232.61 1296.43 1254.62 1114.72]\n"
          ]
        }
      ]
    },
    {
      "cell_type": "code",
      "source": [
        "Y = Y.reshape(-1, 1)\n"
      ],
      "metadata": {
        "id": "dYy4hhYA7sJc"
      },
      "execution_count": 11,
      "outputs": []
    },
    {
      "cell_type": "markdown",
      "source": [
        "## Feature Scaling"
      ],
      "metadata": {
        "id": "Kve9eb_F--_9"
      }
    },
    {
      "cell_type": "code",
      "source": [
        "from sklearn.preprocessing import StandardScaler\n",
        "\n",
        "# Create instances of the StandardScaler\n",
        "sc_x = StandardScaler()\n",
        "sc_y = StandardScaler()\n",
        "\n",
        "# Fit and transform X and Y\n",
        "X = sc_x.fit_transform(X)\n",
        "Y = sc_y.fit_transform(Y)\n",
        "\n"
      ],
      "metadata": {
        "id": "vxPBRHJW_IV3"
      },
      "execution_count": 16,
      "outputs": []
    },
    {
      "cell_type": "markdown",
      "source": [
        "## Splitting the Dataset\n"
      ],
      "metadata": {
        "id": "X8e7eoYZBC2D"
      }
    },
    {
      "cell_type": "code",
      "source": [
        "from pandas.core.common import random_state\n",
        "from sklearn.model_selection import train_test_split\n",
        "X_train,Y_train,X_test,Y_test = train_test_split(X, Y, test_size = 0.2, random_state=0)"
      ],
      "metadata": {
        "id": "1BnmsSwyBwiX"
      },
      "execution_count": 18,
      "outputs": []
    },
    {
      "cell_type": "code",
      "source": [
        "print(X_train)"
      ],
      "metadata": {
        "colab": {
          "base_uri": "https://localhost:8080/"
        },
        "id": "cqgupXxPDDR1",
        "outputId": "6249f739-ccd4-4c77-e780-5dfc1e184a25"
      },
      "execution_count": 19,
      "outputs": [
        {
          "output_type": "stream",
          "name": "stdout",
          "text": [
            "[[ 6.75764264e-01  7.82290862e-01 -1.28053531e+00]\n",
            " [-1.37426132e+00 -6.67595104e-01  8.19504938e-01]\n",
            " [-6.73619662e-01  8.45211222e-01 -4.97925208e-01]\n",
            " [ 2.70219922e-02  1.49497739e+00 -8.75945283e-01]\n",
            " [ 7.53613337e-01 -5.18748737e-01  3.89646350e-01]\n",
            " [-7.77418425e-01 -8.20729122e-01  1.29912375e+00]\n",
            " [ 1.27260715e+00  2.22388989e-01  2.82497105e-01]\n",
            " [ 1.92134943e+00 -5.87106601e-01 -9.49030506e-02]\n",
            " [-8.55267498e-01 -5.76970326e-01 -3.57567745e-02]\n",
            " [-5.17921517e-01  1.44223861e+00 -1.29762601e+00]\n",
            " [ 3.38418283e-01  1.28503079e-01 -7.10377172e-01]\n",
            " [-3.88173062e-01  1.48576296e+00 -1.26045476e+00]\n",
            " [-1.50400977e+00 -2.63390675e-01  7.93803157e-01]\n",
            " [ 2.60569210e-01  7.58714356e-01  1.83172847e-01]\n",
            " [-1.08881472e+00 -3.71360135e-01 -8.22508413e-02]\n",
            " [ 1.19475808e+00  7.17769420e-02  7.91826501e-02]\n",
            " [ 1.07230128e-03 -1.80070855e+00  2.57816644e+00]\n",
            " [-1.28676153e-01 -7.44593790e-01  4.99424573e-01]\n",
            " [-1.19261348e+00 -6.00742971e-01  3.47953712e-01]\n",
            " [-8.81217189e-01  1.47763133e+00 -9.21267927e-01]\n",
            " [-4.14122753e-01  1.20326852e+00 -1.05760608e+00]\n",
            " [-2.32474917e-01  6.47802039e-01 -1.99055107e-01]\n",
            " [-2.32474917e-01  1.34764566e+00 -1.16431923e+00]\n",
            " [ 2.70219922e-02 -6.15369030e-01  2.61925075e-01]\n",
            " [-4.40072444e-01 -2.04582895e-01  4.77382475e-01]\n",
            " [-9.07166880e-01 -5.19409442e-01  3.09418876e-01]\n",
            " [ 2.86518901e-01  4.95709528e-01 -8.48413469e-01]\n",
            " [ 9.61210864e-01 -2.20446143e+00  2.24995923e+00]\n",
            " [-4.66022135e-01  1.24745204e+00 -1.09720902e+00]\n",
            " [-1.73755699e+00 -2.13374889e-01  9.39446678e-01]\n",
            " [-1.28676153e-01 -1.12671194e+00  4.49226331e-01]\n",
            " [ 1.32450654e+00 -1.33080784e+00  3.47953712e-01]\n",
            " [-7.77418425e-01  1.49762603e+00 -1.69620560e+00]\n",
            " [-4.91971826e-01  2.92319112e-02 -1.32569864e+00]\n",
            " [-4.91971826e-01  4.00309750e-01 -1.03356068e+00]\n",
            " [-1.11476441e+00 -7.29199877e-01  1.06601671e+00]\n",
            " [ 2.23274572e+00 -1.16120585e+00  1.58383541e-01]\n",
            " [ 1.53210406e+00 -8.31930971e-01  1.96019989e-02]\n",
            " [ 1.82720138e-01  1.41600566e+00 -1.51573857e+00]\n",
            " [-1.03691533e+00 -7.48566247e-01  7.81678047e-01]\n",
            " [ 1.24665746e+00 -1.34961971e+00 -1.34508866e-01]\n",
            " [ 2.02514819e+00 -7.78870150e-01 -8.17449132e-01]\n",
            " [-9.85015953e-01  1.21585738e+00 -7.20270859e-01]\n",
            " [ 1.40235561e+00  7.47135732e-01 -6.96068584e-01]\n",
            " [-1.71160730e+00  1.52910334e+00 -8.87592676e-01]\n",
            " [-1.16666379e+00 -5.46976991e-01  5.75390759e-01]\n",
            " [-2.48773896e-02  3.50153842e-01 -5.64475040e-01]\n",
            " [-1.28676153e-01  1.39857584e+00 -9.13599862e-01]\n",
            " [ 9.87160555e-01  1.36279204e+00 -6.90789343e-01]\n",
            " [-3.36273680e-01 -5.51618142e-02  1.65503432e+00]\n",
            " [-1.54625844e-01 -5.76744638e-01  9.90455841e-02]\n",
            " [-1.28676153e-01  2.97366758e-01 -4.46405909e-01]\n",
            " [ 9.61210864e-01 -1.19434306e+00 -8.00697398e-01]\n",
            " [ 2.86518901e-01  1.32240625e+00 -7.43625000e-01]\n",
            " [ 7.01713955e-01  7.58626564e-01  2.82253069e-01]\n",
            " [-4.40072444e-01  2.97188606e-01 -1.32641243e+00]\n",
            " [ 7.89213739e-02 -2.01385485e+00  2.10980888e+00]\n",
            " [-3.88173062e-01  1.38374379e+00 -1.09720902e+00]\n",
            " [ 1.27260715e+00  1.45715459e+00 -8.13905090e-01]\n",
            " [-1.34831163e+00 -8.52431264e-01  1.13399193e+00]\n",
            " [ 2.60569210e-01 -8.02920730e-01  2.24279386e+00]\n",
            " [ 7.27663646e-01  7.53151524e-02 -1.07722661e+00]\n",
            " [ 1.09095932e+00  1.39136553e-01 -1.18364327e+00]\n",
            " [-2.58424608e-01  2.42828556e-01  1.80450811e+00]\n",
            " [-2.58424608e-01 -5.07129429e-01  5.40103094e-01]\n",
            " [-2.84374299e-01  3.24451069e-01  1.82219974e+00]\n",
            " [-4.14122753e-01  1.35431832e+00 -1.12502668e+00]\n",
            " [ 1.55805375e+00 -1.80093527e+00 -8.10370350e-01]\n",
            " [ 4.68166737e-01  8.44246302e-03  7.56460408e-01]\n",
            " [-1.08881472e+00 -3.30785916e-01  8.94727892e-01]\n",
            " [ 2.86518901e-01  1.57422173e+00 -8.48413469e-01]\n",
            " [ 2.82958861e+00 -4.14127000e-01  1.79865746e-01]\n",
            " [-5.08270805e-02 -1.70297114e-01  2.32124864e+00]\n",
            " [ 1.14285870e+00 -4.38342308e-02 -1.73404722e-01]\n",
            " [ 2.70219922e-02 -1.14186946e+00  9.42520577e-01]\n",
            " [ 2.20679603e+00 -1.00577213e+00 -1.73704662e-01]\n",
            " [-3.62223371e-01 -1.00013335e+00 -1.47785310e-01]\n",
            " [ 9.61210864e-01  6.98290271e-01  4.92022934e-01]\n",
            " [-5.17921517e-01 -6.48083986e-01  3.46290525e-01]\n",
            " [-6.47669971e-01 -5.98248066e-01  2.84447191e-01]\n",
            " [ 1.30820756e-01  1.07695843e+00 -1.20335738e+00]\n",
            " [ 2.08669828e-01 -5.09619280e-01 -2.76204079e-01]\n",
            " [-1.60780853e+00 -7.42723190e-01  2.07506672e+00]\n",
            " [-1.45211039e+00 -3.13830600e-01  3.89646350e-01]\n",
            " [-3.88173062e-01 -1.70474211e+00  2.33306499e+00]\n",
            " [ 1.58400345e+00  1.86169655e-01 -1.35391137e-01]\n",
            " [-4.40072444e-01  1.30573272e+00 -1.02146703e+00]\n",
            " [ 5.71965501e-01 -1.20823895e+00  2.04471492e+00]\n",
            " [-3.62223371e-01  1.58973513e+00 -1.10170064e+00]\n",
            " [ 9.61210864e-01  3.27188450e-01  3.09901196e-01]\n",
            " [ 1.16880839e+00 -9.12465919e-02 -8.63483604e-01]\n",
            " [-5.95770589e-01 -6.03700045e-01  3.33423621e-01]\n",
            " [-1.16666379e+00 -6.59801278e-01  2.72722704e-01]\n",
            " [ 1.03905994e+00  5.48923727e-02 -9.09783257e-01]\n",
            " [-1.42616070e+00 -1.25460870e+00  8.20304361e-01]\n",
            " [-1.06286503e+00 -9.64403930e-01  1.02606896e+00]]\n"
          ]
        }
      ]
    },
    {
      "cell_type": "code",
      "source": [
        "print (Y_train)"
      ],
      "metadata": {
        "colab": {
          "base_uri": "https://localhost:8080/"
        },
        "id": "YJWu5jBkDM1A",
        "outputId": "75d1ce45-ee7b-4c82-f9ee-7f27c391be7d"
      },
      "execution_count": 20,
      "outputs": [
        {
          "output_type": "stream",
          "name": "stdout",
          "text": [
            "[[ 0.20866983 -0.95977111  0.90076715]\n",
            " [ 0.10487106  0.82815741 -0.28095286]\n",
            " [ 0.31246859  0.61612003 -0.37057483]\n",
            " [-0.62172028  1.59033605 -0.99612061]\n",
            " [ 1.29855685  0.37764114 -0.84841347]\n",
            " [ 0.15677045  1.38928622 -0.84162024]\n",
            " [-0.51792152  1.55539796 -1.08163519]\n",
            " [-0.49197183  1.55940468 -1.10904071]\n",
            " [-0.64766997 -0.9375997   1.01257878]\n",
            " [ 0.49411643 -0.68603474  1.38888725]\n",
            " [ 1.09095932  1.01956337 -0.7091451 ]\n",
            " [-0.31032399 -0.78222507  1.35040687]\n",
            " [-0.38817306  1.30182279 -1.04045411]\n",
            " [-1.89325513 -0.48366041  0.29247556]\n",
            " [ 1.7137519   0.06994831 -0.79804656]\n",
            " [-1.91920482 -0.17756454  0.77863915]\n",
            " [ 2.02514819  1.40989537 -0.72482835]\n",
            " [ 0.02702199 -1.01602746  0.76400789]\n",
            " [ 1.29855685 -2.00527158 -0.44085386]\n",
            " [-1.21856317 -0.54633205  0.67526475]\n",
            " [-0.90716688 -0.65489832  0.28225307]\n",
            " [-0.36222337 -0.58088625  0.33938866]\n",
            " [-0.46602213 -0.18592657 -1.18364327]\n",
            " [-1.86730544  1.58658234 -0.91359986]\n",
            " [ 0.75361334 -1.83767013 -0.16801521]]\n"
          ]
        }
      ]
    },
    {
      "cell_type": "code",
      "source": [
        "from sklearn.model_selection import train_test_split\n",
        "\n",
        "# Split the data into training and testing sets\n",
        "X_train, X_test, Y_train, Y_test = train_test_split(X, Y, test_size=0.2, random_state=42)\n",
        "\n",
        "# Ensure that the number of samples in X_train and Y_train match\n"
      ],
      "metadata": {
        "id": "EHhZVu4TDO7o"
      },
      "execution_count": 22,
      "outputs": []
    },
    {
      "cell_type": "markdown",
      "source": [
        "## Training Model"
      ],
      "metadata": {
        "id": "89vcHA4_DVMM"
      }
    },
    {
      "cell_type": "code",
      "source": [
        "from sklearn.ensemble import RandomForestRegressor\n",
        "\n",
        "# Create the Random Forest Regressor\n",
        "rf = RandomForestRegressor(random_state=42)\n",
        "\n",
        "# Convert Y_train to a 1-dimensional array\n",
        "Y_train = Y_train.ravel()\n",
        "\n",
        "# Fit the Random Forest model\n",
        "rfModel = rf.fit(X_train, Y_train)\n",
        "\n",
        "# Make predictions\n",
        "y_pred_r = rfModel.predict(X_test)\n"
      ],
      "metadata": {
        "id": "w3U1GXUEDZNm"
      },
      "execution_count": 24,
      "outputs": []
    },
    {
      "cell_type": "markdown",
      "source": [
        "## Performance Evaluation"
      ],
      "metadata": {
        "id": "CXEDi0GsILdq"
      }
    },
    {
      "cell_type": "code",
      "source": [
        "from sklearn.metrics import mean_absolute_error, mean_squared_error"
      ],
      "metadata": {
        "id": "CBQVeXekIS5b"
      },
      "execution_count": 25,
      "outputs": []
    },
    {
      "cell_type": "code",
      "source": [
        "mae_r = mean_absolute_error(Y_test, y_pred_r)\n",
        "mse_r = mean_squared_error(Y_test, y_pred_r)\n",
        "\n",
        "print (mse_r)\n",
        "print(mae_r)"
      ],
      "metadata": {
        "colab": {
          "base_uri": "https://localhost:8080/"
        },
        "id": "c74pkPUAIu8X",
        "outputId": "a506ada5-ded9-4b8c-e5dc-7e9914b60c21"
      },
      "execution_count": 28,
      "outputs": [
        {
          "output_type": "stream",
          "name": "stdout",
          "text": [
            "0.691477779383693\n",
            "0.7136526554636217\n"
          ]
        }
      ]
    },
    {
      "cell_type": "code",
      "source": [
        "print(y_pred_r)"
      ],
      "metadata": {
        "colab": {
          "base_uri": "https://localhost:8080/"
        },
        "id": "VbEhFR42K9cy",
        "outputId": "b9c2a180-0462-49c5-90a2-dbb69128a93b"
      },
      "execution_count": 29,
      "outputs": [
        {
          "output_type": "stream",
          "name": "stdout",
          "text": [
            "[ 0.52817393  0.27924692  0.32306993 -0.58561844  0.29861251  0.16364469\n",
            "  0.44028862  0.2405987  -0.20489804  0.4563979   0.06441972  0.1434528\n",
            "  0.00836374 -0.19715606  0.16380846  0.11615168 -0.6743694   0.72230409\n",
            "  0.11328778 -0.29473373  0.90151392  0.60341896  0.79572316 -0.19621065\n",
            " -0.41879684]\n"
          ]
        }
      ]
    },
    {
      "cell_type": "code",
      "source": [
        "import numpy as np\n",
        "\n",
        "# Assuming Y_test is a DataFrame or 2D array with two columns\n",
        "# Reshape y_pred_r to have the same shape as Y_test\n",
        "y_pred_r = y_pred_r.reshape(-1, 1)  # Reshape to a column vector\n",
        "\n",
        "# Now you can concatenate Y_test and y_pred_r\n",
        "datacompare = np.concatenate((Y_test, y_pred_r), axis=1)\n",
        "dataframe = pd.DataFrame(datacompare, columns=['Precipitation', 'Predicted Precipitation'])\n",
        "print(dataframe)"
      ],
      "metadata": {
        "colab": {
          "base_uri": "https://localhost:8080/"
        },
        "id": "NKtzwqztLBW7",
        "outputId": "09a42ea1-08d3-4169-c820-af9d67da6c0e"
      },
      "execution_count": 32,
      "outputs": [
        {
          "output_type": "stream",
          "name": "stdout",
          "text": [
            "    Precipitation  Predicted Precipitation\n",
            "0       -0.594771                 0.528174\n",
            "1       -0.178533                 0.279247\n",
            "2        0.703713                 0.323070\n",
            "3       -0.644115                -0.585618\n",
            "4        0.821863                 0.298613\n",
            "5        0.044475                 0.163645\n",
            "6       -0.119936                 0.440289\n",
            "7        1.030088                 0.240599\n",
            "8        0.270566                -0.204898\n",
            "9       -0.277753                 0.456398\n",
            "10      -1.017815                 0.064420\n",
            "11       1.674438                 0.143453\n",
            "12      -1.701725                 0.008364\n",
            "13      -0.393032                -0.197156\n",
            "14       0.679147                 0.163808\n",
            "15       1.059333                 0.116152\n",
            "16      -1.547204                -0.674369\n",
            "17       1.574686                 0.722304\n",
            "18      -1.008881                 0.113288\n",
            "19      -0.100688                -0.294734\n",
            "20       0.599706                 0.901514\n",
            "21      -0.103240                 0.603419\n",
            "22      -0.596897                 0.795723\n",
            "23      -0.724300                -0.196211\n",
            "24       0.252593                -0.418797\n"
          ]
        }
      ]
    },
    {
      "cell_type": "code",
      "source": [
        "import matplotlib.pyplot as plt\n",
        "\n",
        "# Assuming Y_test and y_pred_r have the same number of samples\n",
        "plt.scatter(Y_test, y_pred_r, color='blue')\n",
        "plt.xlabel('Actual Precipitation')\n",
        "plt.ylabel('Predicted Precipitation')\n",
        "plt.title('Actual vs Predicted Precipitation')\n",
        "plt.show()\n"
      ],
      "metadata": {
        "colab": {
          "base_uri": "https://localhost:8080/",
          "height": 472
        },
        "id": "otVW4f8xMAaf",
        "outputId": "03f49763-ef0b-4088-c19d-0289c0f6d0bb"
      },
      "execution_count": 36,
      "outputs": [
        {
          "output_type": "display_data",
          "data": {
            "text/plain": [
              "<Figure size 640x480 with 1 Axes>"
            ],
            "image/png": "[encoded data removed]"
          },
          "metadata": {}
        }
      ]
    },
    {
      "cell_type": "code",
      "source": [
        "import matplotlib.pyplot as plt\n",
        "\n",
        "# Assuming Y_test and y_pred_r have the same number of samples\n",
        "plt.plot(Y_test, label='Actual Precipitation', color='blue')\n",
        "plt.plot(y_pred_r, label='Predicted Precipitation', color='red')\n",
        "plt.xlabel('Sample')\n",
        "plt.ylabel('Precipitation')\n",
        "plt.title('Actual vs Predicted Precipitation')\n",
        "plt.legend()\n",
        "plt.show()\n"
      ],
      "metadata": {
        "colab": {
          "base_uri": "https://localhost:8080/",
          "height": 472
        },
        "id": "aY9F2L6ONFVl",
        "outputId": "bb388b7c-baaf-4f1a-a79c-7bae19cd4abd"
      },
      "execution_count": 35,
      "outputs": [
        {
          "output_type": "display_data",
          "data": {
            "text/plain": [
              "<Figure size 640x480 with 1 Axes>"
            ],
            "image/png": "[encoded data removed]"
          },
          "metadata": {}
        }
      ]
    },
    {
      "cell_type": "code",
      "source": [],
      "metadata": {
        "id": "VcogY2IBNXtw"
      },
      "execution_count": null,
      "outputs": []
    }
  ]
}