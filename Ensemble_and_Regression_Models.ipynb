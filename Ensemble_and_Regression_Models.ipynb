{
  "nbformat": 4,
  "nbformat_minor": 0,
  "metadata": {
    "colab": {
      "provenance": []
    },
    "kernelspec": {
      "name": "python3",
      "display_name": "Python 3"
    },
    "language_info": {
      "name": "python"
    }
  },
  "cells": [
    {
      "cell_type": "markdown",
      "source": [
        "## importing Libraries"
      ],
      "metadata": {
        "id": "KJ3h6y0Q44e-"
      }
    },
    {
      "cell_type": "code",
      "source": [
        "import numpy as np\n",
        "import pandas as pd"
      ],
      "metadata": {
        "id": "GWYk61vd5DMi"
      },
      "execution_count": 1,
      "outputs": []
    },
    {
      "cell_type": "markdown",
      "source": [
        "## Importing Dataset"
      ],
      "metadata": {
        "id": "tWxEu02J5Ncx"
      }
    },
    {
      "cell_type": "code",
      "source": [
        "from google.colab import drive\n",
        "drive.mount('/content/drive')\n"
      ],
      "metadata": {
        "colab": {
          "base_uri": "https://localhost:8080/"
        },
        "id": "3h9Q-izO5Gs6",
        "outputId": "2a800f3a-2f2f-4fbd-c4a5-b4db2749fbd4"
      },
      "execution_count": 2,
      "outputs": [
        {
          "output_type": "stream",
          "name": "stdout",
          "text": [
            "Mounted at /content/drive\n"
          ]
        }
      ]
    },
    {
      "cell_type": "code",
      "source": [
        "df=pd.read_csv('/content/drive/MyDrive/Colab Notebooks/Rain Dataset 2.csv')\n",
        "df\n"
      ],
      "metadata": {
        "colab": {
          "base_uri": "https://localhost:8080/",
          "height": 423
        },
        "id": "5zKwYqvL5ZPz",
        "outputId": "bb8fdb8d-fa9c-45cb-ab7b-6ace8094bb57"
      },
      "execution_count": 3,
      "outputs": [
        {
          "output_type": "execute_result",
          "data": {
            "text/plain": [
              "     Year  Mean Temperature  Precipitation   Humidity  WindSpeed\n",
              "0    1901             26.63        1344.89  93.828940  15.021105\n",
              "1    1902             26.83        1150.76  94.197820  11.090103\n",
              "2    1903             26.86        1222.17  94.832620  11.681987\n",
              "3    1904             26.81        1155.25  96.472030   9.000000\n",
              "4    1905             26.71        1262.99  97.118700   4.843305\n",
              "..    ...               ...            ...        ...        ...\n",
              "116  2017             27.46        1158.26  78.567986  13.527572\n",
              "117  2018             27.41        1232.61  80.274216  13.044723\n",
              "118  2019             27.29        1296.43  80.512660  11.298495\n",
              "119  2020             27.43        1254.62  81.257800  10.188700\n",
              "120  2021             27.67        1114.72  80.450000  14.210000\n",
              "\n",
              "[121 rows x 5 columns]"
            ],
            "text/html": [
              "\n",
              "  <div id=\"df-89079142-c4bc-4f44-9781-316fe6b77b9c\" class=\"colab-df-container\">\n",
              "    <div>\n",
              "<style scoped>\n",
              "    .dataframe tbody tr th:only-of-type {\n",
              "        vertical-align: middle;\n",
              "    }\n",
              "\n",
              "    .dataframe tbody tr th {\n",
              "        vertical-align: top;\n",
              "    }\n",
              "\n",
              "    .dataframe thead th {\n",
              "        text-align: right;\n",
              "    }\n",
              "</style>\n",
              "<table border=\"1\" class=\"dataframe\">\n",
              "  <thead>\n",
              "    <tr style=\"text-align: right;\">\n",
              "      <th></th>\n",
              "      <th>Year</th>\n",
              "      <th>Mean Temperature</th>\n",
              "      <th>Precipitation</th>\n",
              "      <th>Humidity</th>\n",
              "      <th>WindSpeed</th>\n",
              "    </tr>\n",
              "  </thead>\n",
              "  <tbody>\n",
              "    <tr>\n",
              "      <th>0</th>\n",
              "      <td>1901</td>\n",
              "      <td>26.63</td>\n",
              "      <td>1344.89</td>\n",
              "      <td>93.828940</td>\n",
              "      <td>15.021105</td>\n",
              "    </tr>\n",
              "    <tr>\n",
              "      <th>1</th>\n",
              "      <td>1902</td>\n",
              "      <td>26.83</td>\n",
              "      <td>1150.76</td>\n",
              "      <td>94.197820</td>\n",
              "      <td>11.090103</td>\n",
              "    </tr>\n",
              "    <tr>\n",
              "      <th>2</th>\n",
              "      <td>1903</td>\n",
              "      <td>26.86</td>\n",
              "      <td>1222.17</td>\n",
              "      <td>94.832620</td>\n",
              "      <td>11.681987</td>\n",
              "    </tr>\n",
              "    <tr>\n",
              "      <th>3</th>\n",
              "      <td>1904</td>\n",
              "      <td>26.81</td>\n",
              "      <td>1155.25</td>\n",
              "      <td>96.472030</td>\n",
              "      <td>9.000000</td>\n",
              "    </tr>\n",
              "    <tr>\n",
              "      <th>4</th>\n",
              "      <td>1905</td>\n",
              "      <td>26.71</td>\n",
              "      <td>1262.99</td>\n",
              "      <td>97.118700</td>\n",
              "      <td>4.843305</td>\n",
              "    </tr>\n",
              "    <tr>\n",
              "      <th>...</th>\n",
              "      <td>...</td>\n",
              "      <td>...</td>\n",
              "      <td>...</td>\n",
              "      <td>...</td>\n",
              "      <td>...</td>\n",
              "    </tr>\n",
              "    <tr>\n",
              "      <th>116</th>\n",
              "      <td>2017</td>\n",
              "      <td>27.46</td>\n",
              "      <td>1158.26</td>\n",
              "      <td>78.567986</td>\n",
              "      <td>13.527572</td>\n",
              "    </tr>\n",
              "    <tr>\n",
              "      <th>117</th>\n",
              "      <td>2018</td>\n",
              "      <td>27.41</td>\n",
              "      <td>1232.61</td>\n",
              "      <td>80.274216</td>\n",
              "      <td>13.044723</td>\n",
              "    </tr>\n",
              "    <tr>\n",
              "      <th>118</th>\n",
              "      <td>2019</td>\n",
              "      <td>27.29</td>\n",
              "      <td>1296.43</td>\n",
              "      <td>80.512660</td>\n",
              "      <td>11.298495</td>\n",
              "    </tr>\n",
              "    <tr>\n",
              "      <th>119</th>\n",
              "      <td>2020</td>\n",
              "      <td>27.43</td>\n",
              "      <td>1254.62</td>\n",
              "      <td>81.257800</td>\n",
              "      <td>10.188700</td>\n",
              "    </tr>\n",
              "    <tr>\n",
              "      <th>120</th>\n",
              "      <td>2021</td>\n",
              "      <td>27.67</td>\n",
              "      <td>1114.72</td>\n",
              "      <td>80.450000</td>\n",
              "      <td>14.210000</td>\n",
              "    </tr>\n",
              "  </tbody>\n",
              "</table>\n",
              "<p>121 rows × 5 columns</p>\n",
              "</div>\n",
              "    <div class=\"colab-df-buttons\">\n",
              "\n",
              "  <div class=\"colab-df-container\">\n",
              "    <button class=\"colab-df-convert\" onclick=\"convertToInteractive('df-89079142-c4bc-4f44-9781-316fe6b77b9c')\"\n",
              "            title=\"Convert this dataframe to an interactive table.\"\n",
              "            style=\"display:none;\">\n",
              "\n",
              "  <svg xmlns=\"http://www.w3.org/2000/svg\" height=\"24px\" viewBox=\"0 -960 960 960\">\n",
              "    <path d=\"M120-120v-720h720v720H120Zm60-500h600v-160H180v160Zm220 220h160v-160H400v160Zm0 220h160v-160H400v160ZM180-400h160v-160H180v160Zm440 0h160v-160H620v160ZM180-180h160v-160H180v160Zm440 0h160v-160H620v160Z\"/>\n",
              "  </svg>\n",
              "    </button>\n",
              "\n",
              "  <style>\n",
              "    .colab-df-container {\n",
              "      display:flex;\n",
              "      gap: 12px;\n",
              "    }\n",
              "\n",
              "    .colab-df-convert {\n",
              "      background-color: #E8F0FE;\n",
              "      border: none;\n",
              "      border-radius: 50%;\n",
              "      cursor: pointer;\n",
              "      display: none;\n",
              "      fill: #1967D2;\n",
              "      height: 32px;\n",
              "      padding: 0 0 0 0;\n",
              "      width: 32px;\n",
              "    }\n",
              "\n",
              "    .colab-df-convert:hover {\n",
              "      background-color: #E2EBFA;\n",
              "      box-shadow: 0px 1px 2px rgba(60, 64, 67, 0.3), 0px 1px 3px 1px rgba(60, 64, 67, 0.15);\n",
              "      fill: #174EA6;\n",
              "    }\n",
              "\n",
              "    .colab-df-buttons div {\n",
              "      margin-bottom: 4px;\n",
              "    }\n",
              "\n",
              "    [theme=dark] .colab-df-convert {\n",
              "      background-color: #3B4455;\n",
              "      fill: #D2E3FC;\n",
              "    }\n",
              "\n",
              "    [theme=dark] .colab-df-convert:hover {\n",
              "      background-color: #434B5C;\n",
              "      box-shadow: 0px 1px 3px 1px rgba(0, 0, 0, 0.15);\n",
              "      filter: drop-shadow(0px 1px 2px rgba(0, 0, 0, 0.3));\n",
              "      fill: #FFFFFF;\n",
              "    }\n",
              "  </style>\n",
              "\n",
              "    <script>\n",
              "      const buttonEl =\n",
              "        document.querySelector('#df-89079142-c4bc-4f44-9781-316fe6b77b9c button.colab-df-convert');\n",
              "      buttonEl.style.display =\n",
              "        google.colab.kernel.accessAllowed ? 'block' : 'none';\n",
              "\n",
              "      async function convertToInteractive(key) {\n",
              "        const element = document.querySelector('#df-89079142-c4bc-4f44-9781-316fe6b77b9c');\n",
              "        const dataTable =\n",
              "          await google.colab.kernel.invokeFunction('convertToInteractive',\n",
              "                                                    [key], {});\n",
              "        if (!dataTable) return;\n",
              "\n",
              "        const docLinkHtml = 'Like what you see? Visit the ' +\n",
              "          '<a target=\"_blank\" href=https://colab.research.google.com/notebooks/data_table.ipynb>data table notebook</a>'\n",
              "          + ' to learn more about interactive tables.';\n",
              "        element.innerHTML = '';\n",
              "        dataTable['output_type'] = 'display_data';\n",
              "        await google.colab.output.renderOutput(dataTable, element);\n",
              "        const docLink = document.createElement('div');\n",
              "        docLink.innerHTML = docLinkHtml;\n",
              "        element.appendChild(docLink);\n",
              "      }\n",
              "    </script>\n",
              "  </div>\n",
              "\n",
              "\n",
              "<div id=\"df-bfda8c49-39af-464c-90f3-8cce8e07dc4c\">\n",
              "  <button class=\"colab-df-quickchart\" onclick=\"quickchart('df-bfda8c49-39af-464c-90f3-8cce8e07dc4c')\"\n",
              "            title=\"Suggest charts.\"\n",
              "            style=\"display:none;\">\n",
              "\n",
              "<svg xmlns=\"http://www.w3.org/2000/svg\" height=\"24px\"viewBox=\"0 0 24 24\"\n",
              "     width=\"24px\">\n",
              "    <g>\n",
              "        <path d=\"M19 3H5c-1.1 0-2 .9-2 2v14c0 1.1.9 2 2 2h14c1.1 0 2-.9 2-2V5c0-1.1-.9-2-2-2zM9 17H7v-7h2v7zm4 0h-2V7h2v10zm4 0h-2v-4h2v4z\"/>\n",
              "    </g>\n",
              "</svg>\n",
              "  </button>\n",
              "\n",
              "<style>\n",
              "  .colab-df-quickchart {\n",
              "      --bg-color: #E8F0FE;\n",
              "      --fill-color: #1967D2;\n",
              "      --hover-bg-color: #E2EBFA;\n",
              "      --hover-fill-color: #174EA6;\n",
              "      --disabled-fill-color: #AAA;\n",
              "      --disabled-bg-color: #DDD;\n",
              "  }\n",
              "\n",
              "  [theme=dark] .colab-df-quickchart {\n",
              "      --bg-color: #3B4455;\n",
              "      --fill-color: #D2E3FC;\n",
              "      --hover-bg-color: #434B5C;\n",
              "      --hover-fill-color: #FFFFFF;\n",
              "      --disabled-bg-color: #3B4455;\n",
              "      --disabled-fill-color: #666;\n",
              "  }\n",
              "\n",
              "  .colab-df-quickchart {\n",
              "    background-color: var(--bg-color);\n",
              "    border: none;\n",
              "    border-radius: 50%;\n",
              "    cursor: pointer;\n",
              "    display: none;\n",
              "    fill: var(--fill-color);\n",
              "    height: 32px;\n",
              "    padding: 0;\n",
              "    width: 32px;\n",
              "  }\n",
              "\n",
              "  .colab-df-quickchart:hover {\n",
              "    background-color: var(--hover-bg-color);\n",
              "    box-shadow: 0 1px 2px rgba(60, 64, 67, 0.3), 0 1px 3px 1px rgba(60, 64, 67, 0.15);\n",
              "    fill: var(--button-hover-fill-color);\n",
              "  }\n",
              "\n",
              "  .colab-df-quickchart-complete:disabled,\n",
              "  .colab-df-quickchart-complete:disabled:hover {\n",
              "    background-color: var(--disabled-bg-color);\n",
              "    fill: var(--disabled-fill-color);\n",
              "    box-shadow: none;\n",
              "  }\n",
              "\n",
              "  .colab-df-spinner {\n",
              "    border: 2px solid var(--fill-color);\n",
              "    border-color: transparent;\n",
              "    border-bottom-color: var(--fill-color);\n",
              "    animation:\n",
              "      spin 1s steps(1) infinite;\n",
              "  }\n",
              "\n",
              "  @keyframes spin {\n",
              "    0% {\n",
              "      border-color: transparent;\n",
              "      border-bottom-color: var(--fill-color);\n",
              "      border-left-color: var(--fill-color);\n",
              "    }\n",
              "    20% {\n",
              "      border-color: transparent;\n",
              "      border-left-color: var(--fill-color);\n",
              "      border-top-color: var(--fill-color);\n",
              "    }\n",
              "    30% {\n",
              "      border-color: transparent;\n",
              "      border-left-color: var(--fill-color);\n",
              "      border-top-color: var(--fill-color);\n",
              "      border-right-color: var(--fill-color);\n",
              "    }\n",
              "    40% {\n",
              "      border-color: transparent;\n",
              "      border-right-color: var(--fill-color);\n",
              "      border-top-color: var(--fill-color);\n",
              "    }\n",
              "    60% {\n",
              "      border-color: transparent;\n",
              "      border-right-color: var(--fill-color);\n",
              "    }\n",
              "    80% {\n",
              "      border-color: transparent;\n",
              "      border-right-color: var(--fill-color);\n",
              "      border-bottom-color: var(--fill-color);\n",
              "    }\n",
              "    90% {\n",
              "      border-color: transparent;\n",
              "      border-bottom-color: var(--fill-color);\n",
              "    }\n",
              "  }\n",
              "</style>\n",
              "\n",
              "  <script>\n",
              "    async function quickchart(key) {\n",
              "      const quickchartButtonEl =\n",
              "        document.querySelector('#' + key + ' button');\n",
              "      quickchartButtonEl.disabled = true;  // To prevent multiple clicks.\n",
              "      quickchartButtonEl.classList.add('colab-df-spinner');\n",
              "      try {\n",
              "        const charts = await google.colab.kernel.invokeFunction(\n",
              "            'suggestCharts', [key], {});\n",
              "      } catch (error) {\n",
              "        console.error('Error during call to suggestCharts:', error);\n",
              "      }\n",
              "      quickchartButtonEl.classList.remove('colab-df-spinner');\n",
              "      quickchartButtonEl.classList.add('colab-df-quickchart-complete');\n",
              "    }\n",
              "    (() => {\n",
              "      let quickchartButtonEl =\n",
              "        document.querySelector('#df-bfda8c49-39af-464c-90f3-8cce8e07dc4c button');\n",
              "      quickchartButtonEl.style.display =\n",
              "        google.colab.kernel.accessAllowed ? 'block' : 'none';\n",
              "    })();\n",
              "  </script>\n",
              "</div>\n",
              "    </div>\n",
              "  </div>\n"
            ]
          },
          "metadata": {},
          "execution_count": 3
        }
      ]
    },
    {
      "cell_type": "code",
      "source": [
        "X = df.iloc[:,[1, 3, 4 ]].values\n",
        "Y = df.iloc[:,2].values"
      ],
      "metadata": {
        "id": "D2IxQ_Yq5iyd"
      },
      "execution_count": 4,
      "outputs": []
    },
    {
      "cell_type": "code",
      "source": [
        "#print(X)\n",
        "#print(Y)"
      ],
      "metadata": {
        "id": "K1nCno_D7huA"
      },
      "execution_count": 5,
      "outputs": []
    },
    {
      "cell_type": "code",
      "source": [
        "Y = Y.reshape(-1, 1)\n"
      ],
      "metadata": {
        "id": "dYy4hhYA7sJc"
      },
      "execution_count": 6,
      "outputs": []
    },
    {
      "cell_type": "markdown",
      "source": [
        "## Feature Scaling"
      ],
      "metadata": {
        "id": "Kve9eb_F--_9"
      }
    },
    {
      "cell_type": "code",
      "source": [
        "from sklearn.preprocessing import StandardScaler\n",
        "\n",
        "# Create instances of the StandardScaler\n",
        "sc_x = StandardScaler()\n",
        "sc_y = StandardScaler()\n",
        "\n",
        "# Fit and transform X and Y\n",
        "X = sc_x.fit_transform(X)\n",
        "Y = sc_y.fit_transform(Y)\n",
        "\n"
      ],
      "metadata": {
        "id": "vxPBRHJW_IV3"
      },
      "execution_count": 7,
      "outputs": []
    },
    {
      "cell_type": "markdown",
      "source": [
        "## Splitting the Dataset\n"
      ],
      "metadata": {
        "id": "X8e7eoYZBC2D"
      }
    },
    {
      "cell_type": "code",
      "source": [
        "from pandas.core.common import random_state\n",
        "from sklearn.model_selection import train_test_split\n",
        "X_train,Y_train,X_test,Y_test = train_test_split(X, Y, test_size = 0.2, random_state=0)"
      ],
      "metadata": {
        "id": "1BnmsSwyBwiX"
      },
      "execution_count": 8,
      "outputs": []
    },
    {
      "cell_type": "code",
      "source": [
        "#print(X_train)"
      ],
      "metadata": {
        "id": "cqgupXxPDDR1"
      },
      "execution_count": 9,
      "outputs": []
    },
    {
      "cell_type": "code",
      "source": [
        "#print (Y_train)"
      ],
      "metadata": {
        "id": "YJWu5jBkDM1A"
      },
      "execution_count": 10,
      "outputs": []
    },
    {
      "cell_type": "code",
      "source": [
        "from sklearn.model_selection import train_test_split\n",
        "\n",
        "# Split the data into training and testing sets\n",
        "X_train, X_test, Y_train, Y_test = train_test_split(X, Y, test_size=0.2, random_state=42)\n",
        "\n",
        "# Ensure that the number of samples in X_train and Y_train match\n"
      ],
      "metadata": {
        "id": "EHhZVu4TDO7o"
      },
      "execution_count": 11,
      "outputs": []
    },
    {
      "cell_type": "markdown",
      "source": [
        "## Training Model"
      ],
      "metadata": {
        "id": "89vcHA4_DVMM"
      }
    },
    {
      "cell_type": "code",
      "source": [
        "from sklearn.ensemble import RandomForestRegressor\n",
        "\n",
        "# Create the Random Forest Regressor\n",
        "rf = RandomForestRegressor(random_state=42)\n",
        "\n",
        "# Convert Y_train to a 1-dimensional array\n",
        "Y_train = Y_train.ravel()\n",
        "\n",
        "# Fit the Random Forest model\n",
        "rfModel = rf.fit(X_train, Y_train)\n",
        "\n",
        "# Make predictions\n",
        "y_pred_r = rfModel.predict(X_test)\n"
      ],
      "metadata": {
        "id": "w3U1GXUEDZNm"
      },
      "execution_count": 12,
      "outputs": []
    },
    {
      "cell_type": "markdown",
      "source": [
        "## Performance Evaluation"
      ],
      "metadata": {
        "id": "CXEDi0GsILdq"
      }
    },
    {
      "cell_type": "code",
      "source": [
        "from sklearn.metrics import mean_absolute_error, mean_squared_error"
      ],
      "metadata": {
        "id": "CBQVeXekIS5b"
      },
      "execution_count": 13,
      "outputs": []
    },
    {
      "cell_type": "code",
      "source": [
        "mae_r = mean_absolute_error(Y_test, y_pred_r)\n",
        "mse_r = mean_squared_error(Y_test, y_pred_r)\n",
        "\n",
        "print (mse_r)\n",
        "print(mae_r)"
      ],
      "metadata": {
        "colab": {
          "base_uri": "https://localhost:8080/"
        },
        "id": "c74pkPUAIu8X",
        "outputId": "cb6fb9e9-1ecf-4606-8d41-992584ac1cdb"
      },
      "execution_count": 14,
      "outputs": [
        {
          "output_type": "stream",
          "name": "stdout",
          "text": [
            "0.7119538255964675\n",
            "0.7220044232536774\n"
          ]
        }
      ]
    },
    {
      "cell_type": "code",
      "source": [
        "#print(y_pred_r)"
      ],
      "metadata": {
        "id": "VbEhFR42K9cy"
      },
      "execution_count": 15,
      "outputs": []
    },
    {
      "cell_type": "code",
      "source": [
        "import numpy as np\n",
        "\n",
        "# Assuming Y_test is a DataFrame or 2D array with two columns\n",
        "# Reshape y_pred_r to have the same shape as Y_test\n",
        "y_pred_r = y_pred_r.reshape(-1, 1)  # Reshape to a column vector\n",
        "\n",
        "# Now you can concatenate Y_test and y_pred_r\n",
        "datacompare = np.concatenate((Y_test, y_pred_r), axis=1)\n",
        "dataframe = pd.DataFrame(datacompare, columns=['Precipitation', 'Predicted Precipitation'])\n",
        "print(dataframe)"
      ],
      "metadata": {
        "colab": {
          "base_uri": "https://localhost:8080/"
        },
        "id": "NKtzwqztLBW7",
        "outputId": "f9225152-83ac-4990-b60f-7078a079c095"
      },
      "execution_count": 16,
      "outputs": [
        {
          "output_type": "stream",
          "name": "stdout",
          "text": [
            "    Precipitation  Predicted Precipitation\n",
            "0       -0.594771                 0.604456\n",
            "1       -0.178533                 0.345479\n",
            "2        0.703713                 0.332001\n",
            "3       -0.644115                -0.602811\n",
            "4        0.821863                 0.303374\n",
            "5        0.044475                 0.129950\n",
            "6       -0.119936                 0.456856\n",
            "7        1.030088                 0.240653\n",
            "8        0.270566                -0.167034\n",
            "9       -0.277753                 0.454843\n",
            "10      -1.017815                 0.056256\n",
            "11       1.674438                 0.154198\n",
            "12      -1.701725                 0.069406\n",
            "13      -0.393032                -0.167472\n",
            "14       0.679147                 0.145720\n",
            "15       1.059333                 0.133526\n",
            "16      -1.547204                -0.664105\n",
            "17       1.574686                 0.723012\n",
            "18      -1.008881                 0.105586\n",
            "19      -0.100688                -0.245922\n",
            "20       0.599706                 0.897112\n",
            "21      -0.103240                 0.665295\n",
            "22      -0.596897                 0.786987\n",
            "23      -0.724300                -0.160333\n",
            "24       0.252593                -0.462372\n"
          ]
        }
      ]
    },
    {
      "cell_type": "code",
      "source": [
        "import matplotlib.pyplot as plt\n",
        "\n",
        "# Assuming Y_test and y_pred_r have the same number of samples\n",
        "plt.scatter(Y_test, y_pred_r, color='blue')\n",
        "plt.xlabel('Actual Precipitation')\n",
        "plt.ylabel('Predicted Precipitation')\n",
        "plt.title('Actual vs Predicted Precipitation')\n",
        "plt.show()\n"
      ],
      "metadata": {
        "colab": {
          "base_uri": "https://localhost:8080/",
          "height": 472
        },
        "id": "otVW4f8xMAaf",
        "outputId": "875d9842-b441-4910-cb5a-a3cc361dbf13"
      },
      "execution_count": 17,
      "outputs": [
        {
          "output_type": "display_data",
          "data": {
            "text/plain": [
              "<Figure size 640x480 with 1 Axes>"
            ],
            "image/png": "[encoded data removed]"
          },
          "metadata": {}
        }
      ]
    },
    {
      "cell_type": "code",
      "source": [
        "import matplotlib.pyplot as plt\n",
        "\n",
        "# Assuming Y_test and y_pred_r have the same number of samples\n",
        "plt.plot(Y_test, label='Actual Precipitation', color='blue')\n",
        "plt.plot(y_pred_r, label='Predicted Precipitation', color='red')\n",
        "plt.xlabel('Sample')\n",
        "plt.ylabel('Precipitation')\n",
        "plt.title('Actual vs Predicted Precipitation')\n",
        "plt.legend()\n",
        "plt.show()\n"
      ],
      "metadata": {
        "colab": {
          "base_uri": "https://localhost:8080/",
          "height": 472
        },
        "id": "aY9F2L6ONFVl",
        "outputId": "bd2186d4-320d-412a-8fea-35cf33056bd0"
      },
      "execution_count": 18,
      "outputs": [
        {
          "output_type": "display_data",
          "data": {
            "text/plain": [
              "<Figure size 640x480 with 1 Axes>"
            ],
            "image/png": "[encoded data removed]"
          },
          "metadata": {}
        }
      ]
    },
    {
      "cell_type": "markdown",
      "source": [
        " Using XgBoost Model"
      ],
      "metadata": {
        "id": "O7drGUYQ21Qz"
      }
    },
    {
      "cell_type": "code",
      "source": [
        "from xgboost import XGBRegressor\n",
        "xgb = XGBRegressor(random_state=42)\n",
        "xgb.fit(X_train, Y_train)\n",
        "y_pred_xgb = xgb.predict(X_test)\n",
        "from sklearn.metrics import mean_squared_error, mean_absolute_error\n",
        "\n",
        "mse_xgb = mean_squared_error(Y_test, y_pred_xgb)\n",
        "mae_xgb = mean_absolute_error(Y_test, y_pred_xgb)\n",
        "\n",
        "print(\"Mean Squared Error (MSE) for XGBoost:\", mse_xgb)\n",
        "print(\"Mean Absolute Error (MAE) for XGBoost:\", mae_xgb)\n"
      ],
      "metadata": {
        "colab": {
          "base_uri": "https://localhost:8080/"
        },
        "id": "VcogY2IBNXtw",
        "outputId": "8036bd35-8b32-4514-b631-260e8c1201d5"
      },
      "execution_count": 19,
      "outputs": [
        {
          "output_type": "stream",
          "name": "stdout",
          "text": [
            "Mean Squared Error (MSE) for XGBoost: 1.1563878176498148\n",
            "Mean Absolute Error (MAE) for XGBoost: 0.9197914873507471\n"
          ]
        }
      ]
    },
    {
      "cell_type": "markdown",
      "source": [
        "Using SVR Model"
      ],
      "metadata": {
        "id": "qZPOBrFE3ie0"
      }
    },
    {
      "cell_type": "code",
      "source": [
        "from sklearn.svm import SVR\n",
        "\n",
        "# Create the SVR model\n",
        "svr = SVR()\n",
        "\n",
        "# Fit the model to the training data\n",
        "svr.fit(X_train, Y_train)\n",
        "\n",
        "# Make predictions\n",
        "y_pred_svr = svr.predict(X_test)\n",
        "\n",
        "# Evaluate the model\n",
        "mse_svr = mean_squared_error(Y_test, y_pred_svr)\n",
        "mae_svr = mean_absolute_error(Y_test, y_pred_svr)\n",
        "\n",
        "print(\"Mean Squared Error (MSE) for SVR:\", mse_svr)\n",
        "print(\"Mean Absolute Error (MAE) for SVR:\", mae_svr)\n"
      ],
      "metadata": {
        "colab": {
          "base_uri": "https://localhost:8080/"
        },
        "id": "_Tx_WTdXXIcp",
        "outputId": "303a0687-3269-4e38-caaa-5e59f6e66018"
      },
      "execution_count": 20,
      "outputs": [
        {
          "output_type": "stream",
          "name": "stdout",
          "text": [
            "Mean Squared Error (MSE) for SVR: 0.7830404394836602\n",
            "Mean Absolute Error (MAE) for SVR: 0.7379570839257643\n"
          ]
        }
      ]
    },
    {
      "cell_type": "markdown",
      "source": [
        "Using Lasso Regression Model"
      ],
      "metadata": {
        "id": "U_-AeWDc3FA0"
      }
    },
    {
      "cell_type": "code",
      "source": [
        "from sklearn.linear_model import Lasso, Ridge\n",
        "\n",
        "# Create the Lasso Regression model\n",
        "lasso = Lasso(alpha=0.1)  # You can adjust the alpha parameter for regularization\n",
        "\n",
        "# Fit the model to the training data\n",
        "lasso.fit(X_train, Y_train)\n",
        "\n",
        "# Make predictions\n",
        "y_pred_lasso = lasso.predict(X_test)\n",
        "\n",
        "# Evaluate the model\n",
        "mse_lasso = mean_squared_error(Y_test, y_pred_lasso)\n",
        "mae_lasso = mean_absolute_error(Y_test, y_pred_lasso)\n",
        "\n",
        "print(\"Mean Squared Error (MSE) for Lasso Regression:\", mse_lasso)\n",
        "print(\"Mean Absolute Error (MAE) for Lasso Regression:\", mae_lasso)\n"
      ],
      "metadata": {
        "colab": {
          "base_uri": "https://localhost:8080/"
        },
        "id": "Wie6ytltXP_3",
        "outputId": "24e2c4b2-a22e-4b45-8352-a90fa1ef5a94"
      },
      "execution_count": 21,
      "outputs": [
        {
          "output_type": "stream",
          "name": "stdout",
          "text": [
            "Mean Squared Error (MSE) for Lasso Regression: 0.7199542896759636\n",
            "Mean Absolute Error (MAE) for Lasso Regression: 0.6740696557954616\n"
          ]
        }
      ]
    },
    {
      "cell_type": "markdown",
      "source": [
        "Using ElasticNet Regression Model"
      ],
      "metadata": {
        "id": "NREbIrYI3NLp"
      }
    },
    {
      "cell_type": "code",
      "source": [
        "from sklearn.linear_model import ElasticNet\n",
        "\n",
        "# Create the ElasticNet Regression model\n",
        "elastic_net = ElasticNet(alpha=0.1, l1_ratio=0.5)  # You can adjust alpha and l1_ratio as needed\n",
        "\n",
        "# Fit the model to the training data\n",
        "elastic_net.fit(X_train, Y_train)\n",
        "\n",
        "# Make predictions\n",
        "y_pred_elastic = elastic_net.predict(X_test)\n",
        "\n",
        "# Evaluate the model\n",
        "mse_elastic = mean_squared_error(Y_test, y_pred_elastic)\n",
        "mae_elastic = mean_absolute_error(Y_test, y_pred_elastic)\n",
        "\n",
        "print(\"Mean Squared Error (MSE) for ElasticNet Regression:\", mse_elastic)\n",
        "print(\"Mean Absolute Error (MAE) for ElasticNet Regression:\", mae_elastic)\n"
      ],
      "metadata": {
        "colab": {
          "base_uri": "https://localhost:8080/"
        },
        "id": "PCj_31rVXWAR",
        "outputId": "038bfc69-a6ec-41f4-d0d4-e89d8da6eb7a"
      },
      "execution_count": 22,
      "outputs": [
        {
          "output_type": "stream",
          "name": "stdout",
          "text": [
            "Mean Squared Error (MSE) for ElasticNet Regression: 0.71753752731956\n",
            "Mean Absolute Error (MAE) for ElasticNet Regression: 0.6713733514152949\n"
          ]
        }
      ]
    },
    {
      "cell_type": "code",
      "source": [
        "mse_values = [ mse_r, mse_xgb, mse_svr, mse_lasso, mse_elastic]\n",
        "mae_values = [ mae_r, mae_xgb, mae_svr, mae_lasso, mae_elastic]\n",
        "model_names = [ 'Random Forest', 'XGBoost', 'SVR', 'Lasso', 'ElasticNet']\n"
      ],
      "metadata": {
        "id": "QkwaabtOpveA"
      },
      "execution_count": 25,
      "outputs": []
    },
    {
      "cell_type": "code",
      "source": [
        "# Create a figure with subplots for MSE and MAE\n",
        "plt.figure(figsize=(12, 6))\n",
        "\n",
        "# Plot histograms for MSE\n",
        "plt.subplot(1, 2, 1)\n",
        "plt.hist(mse_values, bins=5, edgecolor='k', alpha=0.7)\n",
        "plt.xlabel('Mean Squared Error (MSE)')\n",
        "plt.ylabel('Frequency')\n",
        "plt.title('Histogram of MSE for Different Models')\n",
        "\n",
        "plt.xticks(rotation=45)\n",
        "plt.xticks(range(len(model_names)), model_names)\n",
        "\n",
        "\n",
        "# Plot histograms for MAE\n",
        "plt.subplot(1, 2, 2)\n",
        "plt.hist(mae_values, bins=5, edgecolor='k', alpha=0.7)\n",
        "plt.xlabel('Mean Absolute Error (MAE)')\n",
        "plt.ylabel('Frequency')\n",
        "plt.title('Histogram of MAE for Different Models')\n",
        "\n",
        "# Display the model names as x-axis labels\n",
        "plt.xticks(rotation=45)\n",
        "plt.xticks(range(len(model_names)), model_names)\n",
        "\n",
        "# Show the plots\n",
        "plt.tight_layout()\n",
        "plt.show()\n"
      ],
      "metadata": {
        "colab": {
          "base_uri": "https://localhost:8080/",
          "height": 607
        },
        "id": "p35zWu40p4UM",
        "outputId": "628063e8-c4c2-4be6-b0b8-04205f71f156"
      },
      "execution_count": 30,
      "outputs": [
        {
          "output_type": "display_data",
          "data": {
            "text/plain": [
              "<Figure size 1200x600 with 2 Axes>"
            ],
            "image/png": "[encoded data removed]"
          },
          "metadata": {}
        }
      ]
    }
  ]
}